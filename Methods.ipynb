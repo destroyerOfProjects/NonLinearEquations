{
 "cells": [
  {
   "cell_type": "code",
   "execution_count": 58,
   "id": "c77284fd",
   "metadata": {},
   "outputs": [],
   "source": [
    "import numpy as np\n",
    "\n",
    "def Bisection(f, L, R, EPS = 1e-7):\n",
    "    if L > R:\n",
    "        raise Exception(\"Incorrect segment\")\n",
    "    # Sign function\n",
    "    def Sign(x):\n",
    "        if x > 0:\n",
    "            return 1\n",
    "        elif x < 0:\n",
    "            return -1\n",
    "        else:\n",
    "            return 0\n",
    "    \n",
    "    # Сохраняем знаки функции на краях, для ускорения вычислений если функция сложная\n",
    "    sign_left = Sign(f(L))\n",
    "    sign_right = Sign(f(R))\n",
    "    # Если значения на краях не разных знаков, то метод не применим\n",
    "    if sign_left * sign_right > 0:\n",
    "        raise Exception(\"Same sign\")\n",
    "    \n",
    "    \n",
    "    # Если значение на одном из краёв подходит, то можно сразу вернуть ответ\n",
    "    if sign_left == 0:\n",
    "        return L\n",
    "    if sign_right == 0:\n",
    "        return R\n",
    "    \n",
    "    # Количество итераций\n",
    "    iters = 0\n",
    "    while R - L > EPS:\n",
    "        mid = (L + R) / 2\n",
    "        sign_mid = Sign(f(mid))\n",
    "        if sign_mid == 0:\n",
    "            return 0\n",
    "        elif sign_mid * sign_left < 0:\n",
    "            R = mid\n",
    "        else:\n",
    "            L = mid\n",
    "    \n",
    "    return (L + R) / 2\n"
   ]
  },
  {
   "cell_type": "code",
   "execution_count": 59,
   "id": "879b5cbf",
   "metadata": {},
   "outputs": [],
   "source": [
    "def Newton(F, F_derivative, x_old, EPS = 1e-7):\n",
    "    while True:\n",
    "        y = F(x_old)\n",
    "        x_new = x_old - F(x_old) / F_derivative(x_old)\n",
    "        # Если разность между новой и старой координатой x небольшая, то возвращаем середину\n",
    "        if abs(x_new - x_old) < EPS:\n",
    "            return (x_new + x_old) / 2\n",
    "        x_old = x_new"
   ]
  },
  {
   "cell_type": "code",
   "execution_count": null,
   "id": "f7790bfa",
   "metadata": {},
   "outputs": [],
   "source": []
  },
  {
   "cell_type": "code",
   "execution_count": 60,
   "id": "29a01731",
   "metadata": {},
   "outputs": [
    {
     "name": "stdout",
     "output_type": "stream",
     "text": [
      "Bisection on x^3 :  0\n",
      "Newton on x^3 - cos(x) :  0.8654740560401764\n"
     ]
    }
   ],
   "source": [
    "# Some stupid tests\n",
    "\n",
    "def ThirdPower(x):\n",
    "    return x**3\n",
    "def DerivThirdPower(x):\n",
    "    return 3 * x**2\n",
    "\n",
    "def SecondPower(x):\n",
    "    return x**2\n",
    "def DerivSecondPower(x):\n",
    "    return 2*x\n",
    "\n",
    "def F1(x):\n",
    "    return x**3 - np.cos(x)\n",
    "def F1Deriv(x):\n",
    "    return 3 * x**2 + np.sin(x)\n",
    "def F2(x):\n",
    "    return x**2 - 9\n",
    "print('Bisection on x^3 : ', Bisection(ThirdPower, -10, 10))\n",
    "print('Newton on x^3 - cos(x) : ', Newton(F1, F1Deriv, 2))"
   ]
  },
  {
   "cell_type": "code",
   "execution_count": null,
   "id": "74dfb52a",
   "metadata": {},
   "outputs": [],
   "source": []
  },
  {
   "cell_type": "code",
   "execution_count": null,
   "id": "e0289b62",
   "metadata": {},
   "outputs": [],
   "source": []
  }
 ],
 "metadata": {
  "kernelspec": {
   "display_name": "Python 3 (ipykernel)",
   "language": "python",
   "name": "python3"
  },
  "language_info": {
   "codemirror_mode": {
    "name": "ipython",
    "version": 3
   },
   "file_extension": ".py",
   "mimetype": "text/x-python",
   "name": "python",
   "nbconvert_exporter": "python",
   "pygments_lexer": "ipython3",
   "version": "3.9.13"
  }
 },
 "nbformat": 4,
 "nbformat_minor": 5
}
